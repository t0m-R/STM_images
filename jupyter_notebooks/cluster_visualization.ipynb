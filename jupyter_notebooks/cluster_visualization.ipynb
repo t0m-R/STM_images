{
 "cells": [
  {
   "cell_type": "code",
   "execution_count": null,
   "metadata": {},
   "outputs": [],
   "source": [
    "%matplotlib inline"
   ]
  },
  {
   "cell_type": "code",
   "execution_count": null,
   "metadata": {},
   "outputs": [],
   "source": [
    "from fastai.vision import *\n",
    "import pandas as pd\n",
    "import numpy as np\n",
    "from pathlib import Path\n",
    "import omicronscala\n",
    "import spym\n",
    "import xarray\n",
    "import os\n",
    "import torch\n",
    "import numpy as np\n",
    "import random\n",
    "from kmeans_pytorch import kmeans"
   ]
  },
  {
   "cell_type": "code",
   "execution_count": null,
   "metadata": {},
   "outputs": [],
   "source": [
    "def save_pickle(obj, filename):\n",
    "    with open('{}.pkl'.format(filename), 'wb') as file:\n",
    "        pickle.dump(obj, file)\n",
    "        \n",
    "def load_pickle(filename):\n",
    "    with open('{}.pkl'.format(filename), 'rb') as file:\n",
    "        obj = pickle.load(file)\n",
    "    return obj"
   ]
  },
  {
   "cell_type": "code",
   "execution_count": null,
   "metadata": {},
   "outputs": [],
   "source": [
    "def get_img(imgs_path, img):\n",
    "    \"\"\"get row of image from df, return list of [row,plot] for that image\"\"\"\n",
    "    file = img['ImageOriginalName']\n",
    "    ds = omicronscala.to_dataset(Path(imgs_path+file))\n",
    "    tf = ds.Z_Forward\n",
    "    tf.spym.plane()\n",
    "    tf.spym.align()\n",
    "    tf.spym.plane()\n",
    "    tf.spym.fixzero(to_mean=True)\n",
    "    return [img, tf]"
   ]
  },
  {
   "cell_type": "code",
   "execution_count": null,
   "metadata": {},
   "outputs": [],
   "source": [
    "def get_cluster_ids(features_df):\n",
    "    \"\"\" create a dictionary that store cluster number as keys and list of images IDs as values\"\"\"\n",
    "    clusters = {}\n",
    "    n_clusters = len(features_df['dpa'].unique())\n",
    "    for i in range(n_clusters):\n",
    "        tmp = (features_df[features_df['dpa']==i])\n",
    "        clusters[i] = list(map(int,tmp.index))\n",
    "    return clusters      "
   ]
  },
  {
   "cell_type": "code",
   "execution_count": null,
   "metadata": {},
   "outputs": [],
   "source": [
    "def num_clusters(clusters, cutoff):\n",
    "    \"\"\"print number of images for each cluster and total number of clusters that have N images > cutoff\"\"\"\n",
    "    c = 0\n",
    "    for k,v in clusters.items():\n",
    "        if len(v) >= cutoff:\n",
    "            print(k,\":\",len(v))\n",
    "            c += 1\n",
    "    print(\"Total:\",c)"
   ]
  },
  {
   "cell_type": "code",
   "execution_count": null,
   "metadata": {},
   "outputs": [],
   "source": [
    "def save_cluster_plots(df, clusters, filename, cutoff, n=100, rows=10, cols=10):\n",
    "    \"\"\"save cluster samples plots in ./cluster/filename/ folder. Takes N randomly chosen ids from cluster dictionary\"\"\"\n",
    "    for k,v in clusters.items():\n",
    "        if len(v) < cutoff:\n",
    "            continue\n",
    "        else:\n",
    "            ids = random.sample(v,n)\n",
    "            samples = df.loc[ids]\n",
    "            images = []\n",
    "            for _, image in samples.iterrows():\n",
    "                try:\n",
    "                    images.append(show_img(path,image))\n",
    "                except Exception as e:\n",
    "                    print(e)\n",
    "                    print(image['ImageOriginalName'])   \n",
    "\n",
    "            fig, axs = plt.subplots(rows, cols, figsize=(2+(8*cols),(8*rows)))\n",
    "            fig.suptitle('Cluster {}, total imgs: {}'.format(k,len(v)), weight='bold', fontsize=30)\n",
    "            c = 0\n",
    "            for i in range(rows):\n",
    "                for j in range(cols):\n",
    "                    if c < len(images):\n",
    "                        images[c][1].plot(ax=axs[i,j], cmap='afmhot', add_colorbar=False )\n",
    "                        axs[i,j].set_title('[{}] {}'.format(images[c][0]['Date'],images[c][0]['TF0_Filename']), weight='bold', fontsize=20)\n",
    "                        for item in ([axs[i,j].xaxis.label, axs[i,j].yaxis.label] +\n",
    "                              axs[i,j].get_xticklabels() + axs[i,j].get_yticklabels()):\n",
    "                            item.set_fontsize(12)\n",
    "                    else:\n",
    "                        axs[i,j].axis('off')\n",
    "                    c +=1\n",
    "            plt.tight_layout(rect=[0, 0.03, 1, 0.95])\n",
    "            Path('clusters/{}'.format(filename)).mkdir(parents=True, exist_ok=True)\n",
    "            plt.savefig('clusters/{}/{}.png'.format(filename, k), dpi=40)\n",
    "            plt.close(fig)"
   ]
  },
  {
   "cell_type": "code",
   "execution_count": null,
   "metadata": {},
   "outputs": [],
   "source": [
    "def save_cluster_samples(df, clusters, img_id, filename, n=100, rows=10, cols=10):\n",
    "    \"\"\"show plot of N images of cluster ID.\"\"\"\n",
    "    ids = random.sample(clusters[img_id],n)\n",
    "    samples = df.loc[ids]\n",
    "    images = []\n",
    "    for _, image in samples.iterrows():\n",
    "        try:\n",
    "            images.append(show_img(path,image))\n",
    "        except Exception as e:\n",
    "            print(e)\n",
    "            print(image['ImageOriginalName'])   \n",
    "\n",
    "    fig, axs = plt.subplots(rows, cols, figsize=(2+(8*cols),(8*rows)))\n",
    "    fig.suptitle('Cluster {}, total imgs: {}'.format(ID,len(clusters[img_id])), weight='bold', fontsize=30)\n",
    "    c = 0\n",
    "    for i in range(rows):\n",
    "        for j in range(cols):\n",
    "            if c < len(images):\n",
    "                images[c][1].plot(ax=axs[i,j], cmap='afmhot', add_colorbar=False )\n",
    "                axs[i,j].set_title('[{}] {}'.format(images[c][0]['Date'],images[c][0]['TF0_Filename']), weight='bold', fontsize=20)\n",
    "                for item in ([axs[i,j].xaxis.label, axs[i,j].yaxis.label] +\n",
    "                      axs[i,j].get_xticklabels() + axs[i,j].get_yticklabels()):\n",
    "                    item.set_fontsize(12)\n",
    "            else:\n",
    "                axs[i,j].axis('off')\n",
    "            c +=1\n",
    "    plt.tight_layout(rect=[0, 0.03, 1, 0.95])\n",
    "    Path('clusters/{}'.format(filename)).mkdir(parents=True, exist_ok=True)\n",
    "    plt.savefig('clusters/{}/{}.png'.format(filename, img_id), dpi=40)\n",
    "    plt.close(fig)"
   ]
  },
  {
   "cell_type": "code",
   "execution_count": null,
   "metadata": {},
   "outputs": [],
   "source": [
    "def plot_cluster_samples(df, clusters, img_id, n=100, rows=10, cols=10):\n",
    "    \"\"\"show plot of N images of cluster ID.\"\"\"\n",
    "    ids = random.sample(clusters[img_id],n)\n",
    "    samples = df.loc[ids]\n",
    "    images = []\n",
    "    for _, image in samples.iterrows():\n",
    "        try:\n",
    "            images.append(show_img(path,image))\n",
    "        except Exception as e:\n",
    "            print(e)\n",
    "            print(image['ImageOriginalName'])   \n",
    "\n",
    "    fig, axs = plt.subplots(rows, cols, figsize=(2+(8*cols),(8*rows)))\n",
    "    fig.suptitle('Cluster {}, total imgs: {}'.format(img_id,len(clusters[img_id])), weight='bold', fontsize=30)\n",
    "    c = 0\n",
    "    for i in range(rows):\n",
    "        for j in range(cols):\n",
    "            if c < len(images):\n",
    "                images[c][1].plot(ax=axs[i,j], cmap='afmhot', add_colorbar=False )\n",
    "                axs[i,j].set_title('[{}] {}'.format(images[c][0]['Date'],images[c][0]['TF0_Filename']), weight='bold', fontsize=20)\n",
    "                for item in ([axs[i,j].xaxis.label, axs[i,j].yaxis.label] +\n",
    "                      axs[i,j].get_xticklabels() + axs[i,j].get_yticklabels()):\n",
    "                    item.set_fontsize(12)\n",
    "            else:\n",
    "                axs[i,j].axis('off')\n",
    "            c +=1\n",
    "    plt.tight_layout(rect=[0, 0.03, 1, 0.95])\n",
    "    plt.show()\n",
    "    plt.close(fig)"
   ]
  },
  {
   "cell_type": "code",
   "execution_count": null,
   "metadata": {},
   "outputs": [],
   "source": [
    "def load_features(features_file, labels_file):\n",
    "    \"\"\"load features dataframe with DPA labels as a new column\"\"\"\n",
    "    labels = np.load(labels_file)\n",
    "    features_df = load_pickle(features_file)\n",
    "    features_df['dpa'] = labels\n",
    "    return features_df"
   ]
  },
  {
   "cell_type": "code",
   "execution_count": null,
   "metadata": {},
   "outputs": [],
   "source": [
    "def get_cluster_features(features_df, labels, clusters, img_id):\n",
    "    \"\"\"get features dataframe for a single cluster of a DPA clustering. Used for nested clustering\"\"\"\n",
    "    ids = [str(x) for x in clusters[img_id]]\n",
    "    cluster_features = features_df.loc[ids]\n",
    "    labels = np.load(labels)\n",
    "    print(\"Imgs:{}\\tclusters:{}\".format(len(labels),len(set(labels))))\n",
    "    cluster_features['dpa'] = labels\n",
    "    return cluster_features"
   ]
  },
  {
   "cell_type": "code",
   "execution_count": null,
   "metadata": {},
   "outputs": [],
   "source": [
    "#path to original imgs\n",
    "path = 'path_to_imgs'\n",
    "\n",
    "#load stm metadata df\n",
    "stm = load_pickle('df_stm')\n",
    "\n",
    "#load features dataframe and DPA cluster labels\n",
    "features = load_features(\"df_features\",\"labels.npy\")\n",
    "\n",
    "# get image IDs for each cluster\n",
    "cl = get_cluster_ids(features)\n",
    "\n",
    "# show N imgs for each cluster with more than 500 imgs\n",
    "num_clusters(cl,500)\n",
    "\n",
    "#show plot of cluster 10,taking 100 random images in a 10x10 grid\n",
    "plot_cluster_samples(stm,cl,10,100,10,10)\n",
    "\n",
    "# save plot of cluster 10, taking 100 random images in a 10x10 grid\n",
    "save_cluster_samples(stm,cl,10,\"test_plots\",100,10,10)\n",
    "\n",
    "# save plots of each cluster with more than 500 imgs, taking 100 random images in a 10x10 grid\n",
    "save_cluster_plots(stm,cl,\"test_plots\",500,100,10,10)"
   ]
  },
  {
   "cell_type": "code",
   "execution_count": null,
   "metadata": {},
   "outputs": [],
   "source": [
    "# load features of cluster 8 (nested DPA)\n",
    "cl8_features = get_cluster_features(features,\"nested_labels.npy\",cl,8)\n",
    "\n",
    "# get image IDs for each cluster\n",
    "cl8 = get_cluster_ids(cl8_features)\n",
    "\n",
    "# show N imgs for each cluster with more than 100 imgs\n",
    "num_clusters(cl8,100)\n",
    "\n",
    "# save plot of cluster 1, taking 16 random images in a 4x4 grid\n",
    "save_cluster_samples(stm,cl8,1,\"test_plots\",16,4,4)\n",
    "\n",
    "# save plots of each cluster with more than 100 imgs, taking 25 random images in a 5x5 grid\n",
    "save_cluster_plots(stm,cl8,\"test_plots\",100,25,5,5)"
   ]
  }
 ],
 "metadata": {
  "kernelspec": {
   "display_name": "stm",
   "language": "python",
   "name": "stm"
  },
  "language_info": {
   "codemirror_mode": {
    "name": "ipython",
    "version": 3
   },
   "file_extension": ".py",
   "mimetype": "text/x-python",
   "name": "python",
   "nbconvert_exporter": "python",
   "pygments_lexer": "ipython3",
   "version": "3.8.2"
  }
 },
 "nbformat": 4,
 "nbformat_minor": 4
}