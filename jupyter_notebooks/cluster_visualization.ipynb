{
 "cells": [
  {
   "cell_type": "code",
   "execution_count": null,
   "metadata": {},
   "outputs": [],
   "source": [
    "%matplotlib inline"
   ]
  },
  {
   "cell_type": "code",
   "execution_count": null,
   "metadata": {},
   "outputs": [],
   "source": [
    "from fastai.vision import *\n",
    "import pandas as pd\n",
    "import numpy as np\n",
    "from pathlib import Path\n",
    "import omicronscala\n",
    "import spym\n",
    "import xarray\n",
    "import os\n",
    "import torch\n",
    "import numpy as np\n",
    "import random\n",
    "from kmeans_pytorch import kmeans"
   ]
  },
  {
   "cell_type": "code",
   "execution_count": null,
   "metadata": {},
   "outputs": [],
   "source": [
    "def savePickle(obj, filename):\n",
    "    with open('{}.pkl'.format(filename), 'wb') as file:\n",
    "        pickle.dump(obj, file)\n",
    "        \n",
    "def loadPickle(filename):\n",
    "    with open('{}.pkl'.format(filename), 'rb') as file:\n",
    "        obj = pickle.load(file)\n",
    "    return obj"
   ]
  },
  {
   "cell_type": "code",
   "execution_count": null,
   "metadata": {},
   "outputs": [],
   "source": [
    "def show_img(path, img):\n",
    "    file = img['ImageOriginalName']\n",
    "    ds = omicronscala.to_dataset(Path(path+file))\n",
    "    tf = ds.Z_Forward\n",
    "    tf.spym.plane()\n",
    "    tf.spym.align()\n",
    "    tf.spym.plane()\n",
    "    tf.spym.fixzero(to_mean=True)\n",
    "    return [img, tf]"
   ]
  },
  {
   "cell_type": "code",
   "execution_count": null,
   "metadata": {},
   "outputs": [],
   "source": [
    "#path to original imgs\n",
    "path = 'path_to_imgs'\n",
    "\n",
    "#load stm metadata df\n",
    "stm = loadPickle('clean_stm')\n",
    "\n",
    "#load DPA cluster labels\n",
    "labels = np.load(\"labels.npy\")\n",
    "\n",
    "#load features dataframe\n",
    "features = loadPickle(\"df_features\")\n",
    "\n",
    "#add cluster labels\n",
    "features['dpa'] = labels\n",
    "features.head()"
   ]
  },
  {
   "cell_type": "code",
   "execution_count": null,
   "metadata": {},
   "outputs": [],
   "source": [
    "def get_cluster_ids(df, features_df):\n",
    "    \" create a dictionary that store cluster number as keys and list of images IDs as values\"\n",
    "    clusters = {}\n",
    "    n_clusters = len(features_df['dpa'].unique())\n",
    "    for i in range(n_clusters):\n",
    "        tmp = (features[features['dpa']==i])\n",
    "        clusters[i] = list(map(int,tmp.index))\n",
    "    return clusters      "
   ]
  },
  {
   "cell_type": "code",
   "execution_count": null,
   "metadata": {},
   "outputs": [],
   "source": [
    "def save_cluster_plots(df, clusters, fname, N=100, rows=10, cols=10):\n",
    "    \"save cluster samples plots in ./cluster/fname/ folder. Takes N randomly choosen ids from cluster dictionary\"\n",
    "    for k,v in clusters.items():\n",
    "        IDs = random.sample(v,N)\n",
    "        samples = df.loc[IDs]\n",
    "        images = []\n",
    "        for _, image in samples.iterrows():\n",
    "            try:\n",
    "                images.append(show_img(path,image))\n",
    "            except Exception as e:\n",
    "                print(e)\n",
    "                print(image['ImageOriginalName'])   \n",
    "\n",
    "        fig, axs = plt.subplots(rows, cols, figsize=(2+(8*cols),(8*rows)))\n",
    "        fig.suptitle('Samples of cluster {}'.format(k), weight='bold', fontsize=30)\n",
    "        c = 0\n",
    "        for i in range(rows):\n",
    "            for j in range(cols):\n",
    "                if c < len(images):\n",
    "                    images[c][1].plot(ax=axs[i,j], cmap='afmhot', add_colorbar=False )\n",
    "                    axs[i,j].set_title('[{}] {}'.format(images[c][0]['Date'],images[c][0]['TF0_Filename']), weight='bold', fontsize=20)\n",
    "                    for item in ([axs[i,j].xaxis.label, axs[i,j].yaxis.label] +\n",
    "                          axs[i,j].get_xticklabels() + axs[i,j].get_yticklabels()):\n",
    "                        item.set_fontsize(12)\n",
    "                else:\n",
    "                    axs[i,j].axis('off')\n",
    "                c +=1\n",
    "        plt.tight_layout(rect=[0, 0.03, 1, 0.95])\n",
    "        Path('clusters/{}'.format(fname)).mkdir(parents=True, exist_ok=True)\n",
    "        plt.savefig('clusters/{}/{}.png'.format(fname, k), dpi=40)\n",
    "        plt.close(fig)"
   ]
  },
  {
   "cell_type": "code",
   "execution_count": null,
   "metadata": {},
   "outputs": [],
   "source": [
    "def plot_cluster_samples(df, clusters, ID, N=100, rows=10, cols=10):\n",
    "    \"show plot of N images of cluster ID.\"\n",
    "    IDs = random.sample(clusters[ID],N)\n",
    "    samples = df.loc[IDs]\n",
    "    images = []\n",
    "    for _, image in samples.iterrows():\n",
    "        try:\n",
    "            images.append(show_img(path,image))\n",
    "        except Exception as e:\n",
    "            print(e)\n",
    "            print(image['ImageOriginalName'])   \n",
    "\n",
    "    fig, axs = plt.subplots(rows, cols, figsize=(2+(8*cols),(8*rows)))\n",
    "    fig.suptitle('Samples of cluster {}'.format(ID), weight='bold', fontsize=30)\n",
    "    c = 0\n",
    "    for i in range(rows):\n",
    "        for j in range(cols):\n",
    "            if c < len(images):\n",
    "                images[c][1].plot(ax=axs[i,j], cmap='afmhot', add_colorbar=False )\n",
    "                axs[i,j].set_title('[{}] {}'.format(images[c][0]['Date'],images[c][0]['TF0_Filename']), weight='bold', fontsize=20)\n",
    "                for item in ([axs[i,j].xaxis.label, axs[i,j].yaxis.label] +\n",
    "                      axs[i,j].get_xticklabels() + axs[i,j].get_yticklabels()):\n",
    "                    item.set_fontsize(12)\n",
    "            else:\n",
    "                axs[i,j].axis('off')\n",
    "            c +=1\n",
    "    plt.tight_layout(rect=[0, 0.03, 1, 0.95])\n",
    "    plt.show()\n",
    "    plt.close(fig)"
   ]
  },
  {
   "cell_type": "code",
   "execution_count": null,
   "metadata": {},
   "outputs": [],
   "source": [
    "cl = get_cluster_ids(stm, features)"
   ]
  },
  {
   "cell_type": "code",
   "execution_count": null,
   "metadata": {},
   "outputs": [],
   "source": [
    "save_cluster_plots(stm,cl,\"test\",25,5,5)"
   ]
  },
  {
   "cell_type": "code",
   "execution_count": null,
   "metadata": {},
   "outputs": [],
   "source": [
    "plot_cluster_samples(stm,cl,3,25,5,5)"
   ]
  }
 ],
 "metadata": {
  "kernelspec": {
   "display_name": "stm",
   "language": "python",
   "name": "stm"
  },
  "language_info": {
   "codemirror_mode": {
    "name": "ipython",
    "version": 3
   },
   "file_extension": ".py",
   "mimetype": "text/x-python",
   "name": "python",
   "nbconvert_exporter": "python",
   "pygments_lexer": "ipython3",
   "version": "3.8.2"
  }
 },
 "nbformat": 4,
 "nbformat_minor": 4
}
