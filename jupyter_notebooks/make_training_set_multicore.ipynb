{
 "cells": [
  {
   "cell_type": "code",
   "execution_count": null,
   "metadata": {},
   "outputs": [],
   "source": [
    "import pickle \n",
    "import pandas as pd\n",
    "import numpy as np\n",
    "import matplotlib.pyplot as plt \n",
    "import omicronscala\n",
    "import spym\n",
    "import xarray\n",
    "import os\n",
    "from pathlib import Path\n",
    "from tqdm import tqdm\n",
    "from multiprocessing import Pool\n",
    "\n",
    "def load_stm():\n",
    "    \"load stm dataset from cleaned version\"\n",
    "    with open('clean_stm.pkl','rb') as f:\n",
    "        df = pickle.load(f)\n",
    "    return df\n",
    "\n",
    "def imgTrain(path, df, ID):\n",
    "    \"helper to create training dataset, plot image from ID in 224x244 px\"\n",
    "    plt.ioff()\n",
    "    img = df.loc[ID]\n",
    "    file = img.ImageOriginalName\n",
    "    ds = omicronscala.to_dataset(Path(path+file))\n",
    "    tf = ds.Z_Forward\n",
    "    tf.spym.plane()\n",
    "    tf.spym.align()\n",
    "    tf.spym.plane()\n",
    "    tf.spym.fixzero(to_mean=True)\n",
    "    fig = plt.figure(figsize=(4,4))\n",
    "    axis = plt.Axes(fig, [0., 0., 1., 1.])\n",
    "    axis.set_axis_off()\n",
    "    fig.add_axes(axis)\n",
    "    tf.plot(ax=axis, cmap='afmhot', add_colorbar=False)\n",
    "    Path('data/train').mkdir(parents=True, exist_ok=True)\n",
    "    plt.savefig('data/train/{}.png'.format(ID), aspect='auto', dpi=56)\n",
    "    plt.close()\n",
    "\n",
    "def make_train(df, path):\n",
    "    \"sequential function that create training dataset for all images\"\n",
    "    for i in tqdm(range(0,len(df)), position=0, leave=True):\n",
    "        try:\n",
    "            ID = df.iloc[i].name\n",
    "            imgTrain(path, stm, ID)\n",
    "        except Exception as e:\n",
    "            print(e)\n",
    "            continue\n",
    "\n",
    "def multicore_train(df,path,ncores):\n",
    "    \"multicore training dataset creation\"\n",
    "    splits = np.array_split(df, ncores)\n",
    "    pool = Pool(ncores)\n",
    "    pool.map(make_train, splits)\n",
    "    pool.close()\n",
    "    pool.join()\n",
    "\n",
    "def autocomplete_train(df,path):\n",
    "    \"checks training set, completes it if some images are missing\"\n",
    "    for i, row in df.iterrows():\n",
    "        if not os.path.isfile('{}/data/train/{}.png'.format(path,i)):\n",
    "            try:\n",
    "                imgTrain(path, stm, i)\n",
    "            except Exception as e:\n",
    "                print(i)"
   ]
  },
  {
   "cell_type": "code",
   "execution_count": null,
   "metadata": {},
   "outputs": [],
   "source": [
    "stm = load_stm()\n",
    "path = \"path_to_images\"\n",
    "multicore_train(stm,path,24)\n",
    "autocomplete_train(stm,path)"
   ]
  }
 ],
 "metadata": {
  "kernelspec": {
   "display_name": "stm",
   "language": "python",
   "name": "stm"
  },
  "language_info": {
   "codemirror_mode": {
    "name": "ipython",
    "version": 3
   },
   "file_extension": ".py",
   "mimetype": "text/x-python",
   "name": "python",
   "nbconvert_exporter": "python",
   "pygments_lexer": "ipython3",
   "version": "3.8.2"
  }
 },
 "nbformat": 4,
 "nbformat_minor": 4
}
